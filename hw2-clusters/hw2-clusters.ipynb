{
 "cells": [
  {
   "cell_type": "markdown",
   "metadata": {},
   "source": [
    "# Алгоритмы интеллектуальной обработки больших объемов данных\n",
    "## Домашнее задание №2 - Алгоритмы кластеризации\n"
   ]
  },
  {
   "cell_type": "markdown",
   "metadata": {},
   "source": [
    "###### <hr\\>\n",
    "**Общая информация**\n",
    "\n",
    "**Срок сдачи:** 13 марта 2017, 06:00 <br\\>\n",
    "**Штраф за опоздание:** -2 балла после 06:00 13 марта, -4 балла после 06:00 20 марта, -6 баллов после 06:00 27 марта\n",
    "\n",
    "Отправлять дз не нужно, нужно закоммитить в github. Сдается дз лично преподавателю на рубежном контроле (13 марта)\n",
    "\n",
    "Используйте данный Ipython Notebook при оформлении домашнего задания.\n",
    "<hr\\>"
   ]
  },
  {
   "cell_type": "markdown",
   "metadata": {},
   "source": [
    "Основная задача этого задания - реализация одного из алгоритмов кластеризации. Кроме того, мы научимся подбирать параметры алгоритма, визуализируем результат кластеризации и попытаемся проанализировать природу полученных кластеров."
   ]
  },
  {
   "cell_type": "code",
   "execution_count": 9,
   "metadata": {
    "collapsed": false
   },
   "outputs": [
    {
     "name": "stdout",
     "output_type": "stream",
     "text": [
      "Populating the interactive namespace from numpy and matplotlib\n"
     ]
    }
   ],
   "source": [
    "import pandas as pd\n",
    "import pylab as pl\n",
    "import numpy as np\n",
    "import scipy.spatial as ss\n",
    "import sklearn.cluster as sc\n",
    "import sklearn.manifold as sm\n",
    "import sklearn.datasets as ds\n",
    "import sklearn.metrics as smt\n",
    "\n",
    "import matplotlib.pyplot as plt\n",
    "import mpl_toolkits.basemap as bm\n",
    "\n",
    "%matplotlib inline\n",
    "\n",
    "plt.style.use('ggplot')\n",
    "plt.rcParams['figure.figsize'] = (12,5)\n",
    "\n",
    "# Plotting config\n",
    "%pylab inline"
   ]
  },
  {
   "cell_type": "markdown",
   "metadata": {},
   "source": [
    "## Реализация алгоритма"
   ]
  },
  {
   "cell_type": "markdown",
   "metadata": {},
   "source": [
    "Cчитываем данные, полученные в результате выполнения домашнего задания из курса введения, в `data frame` библиотеки `pandas`. Достаем координаты и конвертируем в массив `numpy`. Возможно, в собранном вами файле кодировка будет иной."
   ]
  },
  {
   "cell_type": "code",
   "execution_count": 2,
   "metadata": {
    "collapsed": false
   },
   "outputs": [
    {
     "data": {
      "text/html": [
       "<div>\n",
       "<table border=\"1\" class=\"dataframe\">\n",
       "  <thead>\n",
       "    <tr style=\"text-align: right;\">\n",
       "      <th></th>\n",
       "      <th>pid</th>\n",
       "      <th>address</th>\n",
       "      <th>checkins</th>\n",
       "      <th>city</th>\n",
       "      <th>country</th>\n",
       "      <th>created</th>\n",
       "      <th>icon</th>\n",
       "      <th>latitude</th>\n",
       "      <th>longitude</th>\n",
       "      <th>title</th>\n",
       "      <th>type</th>\n",
       "      <th>updated</th>\n",
       "    </tr>\n",
       "  </thead>\n",
       "  <tbody>\n",
       "    <tr>\n",
       "      <th>0</th>\n",
       "      <td>1</td>\n",
       "      <td>Мячковский б-р 3а</td>\n",
       "      <td>435</td>\n",
       "      <td>1</td>\n",
       "      <td>1</td>\n",
       "      <td>1280741941</td>\n",
       "      <td>https://vk.com/images/places/clubs.png</td>\n",
       "      <td>55.657941</td>\n",
       "      <td>37.751574</td>\n",
       "      <td>Baila Baila</td>\n",
       "      <td>4</td>\n",
       "      <td>1.487519e+09</td>\n",
       "    </tr>\n",
       "    <tr>\n",
       "      <th>1</th>\n",
       "      <td>2</td>\n",
       "      <td>Дачная 2а</td>\n",
       "      <td>14</td>\n",
       "      <td>123</td>\n",
       "      <td>1</td>\n",
       "      <td>1280741941</td>\n",
       "      <td>https://vk.com/images/places/clubs.png</td>\n",
       "      <td>53.202017</td>\n",
       "      <td>50.141377</td>\n",
       "      <td>Lust</td>\n",
       "      <td>4</td>\n",
       "      <td>1.483478e+09</td>\n",
       "    </tr>\n",
       "    <tr>\n",
       "      <th>2</th>\n",
       "      <td>3</td>\n",
       "      <td>Лени Голикова 29</td>\n",
       "      <td>8</td>\n",
       "      <td>2</td>\n",
       "      <td>1</td>\n",
       "      <td>1280741941</td>\n",
       "      <td>https://vk.com/images/places/clubs.png</td>\n",
       "      <td>59.843376</td>\n",
       "      <td>30.231480</td>\n",
       "      <td>Тайфун</td>\n",
       "      <td>4</td>\n",
       "      <td>1.486398e+09</td>\n",
       "    </tr>\n",
       "    <tr>\n",
       "      <th>3</th>\n",
       "      <td>4</td>\n",
       "      <td>Героев Танкограда 63</td>\n",
       "      <td>8</td>\n",
       "      <td>158</td>\n",
       "      <td>1</td>\n",
       "      <td>1280741941</td>\n",
       "      <td>https://vk.com/images/places/clubs.png</td>\n",
       "      <td>55.174954</td>\n",
       "      <td>61.451611</td>\n",
       "      <td>Hollywood</td>\n",
       "      <td>4</td>\n",
       "      <td>1.470157e+09</td>\n",
       "    </tr>\n",
       "    <tr>\n",
       "      <th>4</th>\n",
       "      <td>5</td>\n",
       "      <td>Мусы Джалиля 14К1</td>\n",
       "      <td>38</td>\n",
       "      <td>99</td>\n",
       "      <td>1</td>\n",
       "      <td>1280741941</td>\n",
       "      <td>https://vk.com/images/places/clubs.png</td>\n",
       "      <td>54.860834</td>\n",
       "      <td>83.091932</td>\n",
       "      <td>Барабас</td>\n",
       "      <td>4</td>\n",
       "      <td>1.488720e+09</td>\n",
       "    </tr>\n",
       "  </tbody>\n",
       "</table>\n",
       "</div>"
      ],
      "text/plain": [
       "   pid               address  checkins  city  country     created  \\\n",
       "0    1     Мячковский б-р 3а       435     1        1  1280741941   \n",
       "1    2             Дачная 2а        14   123        1  1280741941   \n",
       "2    3      Лени Голикова 29         8     2        1  1280741941   \n",
       "3    4  Героев Танкограда 63         8   158        1  1280741941   \n",
       "4    5     Мусы Джалиля 14К1        38    99        1  1280741941   \n",
       "\n",
       "                                     icon   latitude  longitude        title  \\\n",
       "0  https://vk.com/images/places/clubs.png  55.657941  37.751574  Baila Baila   \n",
       "1  https://vk.com/images/places/clubs.png  53.202017  50.141377         Lust   \n",
       "2  https://vk.com/images/places/clubs.png  59.843376  30.231480       Тайфун   \n",
       "3  https://vk.com/images/places/clubs.png  55.174954  61.451611    Hollywood   \n",
       "4  https://vk.com/images/places/clubs.png  54.860834  83.091932      Барабас   \n",
       "\n",
       "   type       updated  \n",
       "0     4  1.487519e+09  \n",
       "1     4  1.483478e+09  \n",
       "2     4  1.486398e+09  \n",
       "3     4  1.470157e+09  \n",
       "4     4  1.488720e+09  "
      ]
     },
     "execution_count": 2,
     "metadata": {},
     "output_type": "execute_result"
    }
   ],
   "source": [
    "data_df = pd.read_csv(\"vk.csv\", sep=\",\", header=0, encoding='windows-1251')\n",
    "data_df.head()"
   ]
  },
  {
   "cell_type": "code",
   "execution_count": 3,
   "metadata": {
    "collapsed": false
   },
   "outputs": [
    {
     "name": "stdout",
     "output_type": "stream",
     "text": [
      "[[ 55.657941  37.751574]\n",
      " [ 53.202017  50.141377]\n",
      " [ 59.843376  30.23148 ]\n",
      " ..., \n",
      " [ 55.76363   37.597046]\n",
      " [ 56.002732  37.209755]\n",
      " [ 47.225695  39.72997 ]]\n"
     ]
    }
   ],
   "source": [
    "x = data_df[['latitude', 'longitude']].values\n",
    "print x"
   ]
  },
  {
   "cell_type": "markdown",
   "metadata": {},
   "source": [
    "Алгоритм кластеризации, который необходимо реализовать, выбирается на основании Вашего порядкового номера в списке группы."
   ]
  },
  {
   "cell_type": "markdown",
   "metadata": {},
   "source": [
    "1 Баранчиков Максим\t\n",
    "2 Бекбулатов Рамзан\t\n",
    "3 Белозёров Михаил\t\n",
    "4 Бобылев Владислав\t\n",
    "5 Брызгалов Антон\t\n",
    "6 Будюк Алексей\t\n",
    "7 Валиуллин Альберт\t\n",
    "8 Валиуллин Артур\t\n",
    "9 Васильев Евгений\t\n",
    "10 Галицкий Игорь\t\n",
    "11 Горшков Сергей\t\n",
    "12 Гусев Вячеслав\t\n",
    "13 Дегтярев Роман\t\n",
    "14 Дементьев Максим\t\n",
    "15 Елохов Артур\t\n",
    "16 Ефимов Владислав\t\n",
    "17 Зайцев Александр\t\n",
    "18 Ильин Иван\t\n",
    "19 Имеев Мерген\t\n",
    "20 Камалбеков Тимур\t\n",
    "21 Капитонов Александр\t\n",
    "22 Каспарьянц Георгий\t\n",
    "23 Кафанов Олег\t\n",
    "24 Клейменов Андрей\t\n",
    "25 Козлов Иван\t\n",
    "26 Колмакова Татьяна\t\n",
    "27 Комов Евгений\t\n",
    "28 Крылов Иван\t\n",
    "29 Кузьмина Ирина\t\n",
    "30 Куклева Анна\t\n",
    "31 Курьянов Илья\t\n",
    "32 Лобанов Алексей\t\n",
    "33 Лозинский Иван\t\n",
    "34 Лузин Игорь\t\n",
    "35 Лукьянчиков Иван\t\n",
    "36 Неред Максим\t\n",
    "37 Новикова Анастасия\t\n",
    "38 Новичков Сергей\t\n",
    "39 Омаров Темирхан\t\n",
    "40 Павлова Анастасия\t\n",
    "41 Петренко Иван\t\n",
    "42 Пилюгин Вадим\t\n",
    "43 Плошкин Александр\t\n",
    "44 Полякова Вера\t\n",
    "45 Попкова Екатерина\t\n",
    "46 Преображенский Анатолий\t\n",
    "47 Пронин Сергей\t\n",
    "48 Пучкин Данила\t\n",
    "49 Рогачев Александр\t\n",
    "50 Руденко Дмитрий\t\n",
    "51 Рыбаков Владислав\t\n",
    "52 Санников Артём\t\n",
    "53 Скиба Глеб\t\n",
    "54 Страдомский Сергей\t\n",
    "55 Тескер Константин\t\n",
    "56 Трифанов Петр\t\n",
    "57 Хапкин Артем\t\n",
    "58 Хорошенький Илья\t\n",
    "59 Чокля Дмитрий\t\n",
    "60 Шмурак Денис\t\n",
    "61 Щербакова Елена\t"
   ]
  },
  {
   "cell_type": "code",
   "execution_count": 6,
   "metadata": {
    "collapsed": true
   },
   "outputs": [],
   "source": [
    "N = 1 # put your index here"
   ]
  },
  {
   "cell_type": "code",
   "execution_count": 7,
   "metadata": {
    "collapsed": false
   },
   "outputs": [
    {
     "name": "stdout",
     "output_type": "stream",
     "text": [
      "Реализуем алгоритм кластеризации 'Hierarchical clustering с поддержкой single-linkage, complete-linkage, average-linkage (параметры - k, linkage)'\n"
     ]
    }
   ],
   "source": [
    "algorithms = [\n",
    "    u\"Gaussian Mixture Model с использованием maximum a-posteriori для выбора кластера (параметр - k)\",\n",
    "    u\"Hierarchical clustering с поддержкой single-linkage, complete-linkage, average-linkage (параметры - k, linkage)\",\n",
    "    u\"DBSCAN. (параметры - epsilon, min_pts)\", \n",
    "    u\"OPTICS. (параметры - epsilon, min_pts)\"\n",
    "]\n",
    "\n",
    "my_algorithm = algorithms[N % len(algorithms)]\n",
    "print u\"Реализуем алгоритм кластеризации '%s'\" % my_algorithm"
   ]
  },
  {
   "cell_type": "markdown",
   "metadata": {},
   "source": [
    "Алгоритм кластеризации должен удовлетворять следующему интерфейсу. Конструктор принимает набор параметров, необходимых для работы алгоритма кластеризации. Метод `fit` подсчитывает параметры модели и возвращает `self`. Метод `predict` возвращает вектор с индексами кластеров для поданных в него объектов `x`"
   ]
  },
  {
   "cell_type": "code",
   "execution_count": 74,
   "metadata": {
    "collapsed": false
   },
   "outputs": [],
   "source": [
    "from sklearn.base import BaseEstimator, ClusterMixin\n",
    "\n",
    "class Clustering(BaseEstimator, ClusterMixin):\n",
    "    \"\"\"\n",
    "    Implement clustering algorithm according \n",
    "    \"\"\"\n",
    "    \n",
    "    def __init__(self, k, linkage='single'):\n",
    "        \"\"\"\n",
    "        Инициализация метода\n",
    "        \"\"\"\n",
    "        self.k = k\n",
    "        self.linkage = Clustering.get_linkage(linkage)\n",
    "        \n",
    "    def fit(self, x, y=None):\n",
    "        \"\"\"\n",
    "        Use data matrix x to compute model parameters\n",
    "        \"\"\"\n",
    "        metrics = {}\n",
    "        clusters = [(i, ) for i in xrange(len(x))]\n",
    "        for i in xrange(len(clusters)):\n",
    "            for j in xrange(i+1, len(clusters)):\n",
    "                metrics[(clusters[i], clusters[j])] = self.linkage(x[clusters[i]], x[clusters[j]])\n",
    "                \n",
    "        while len(clusters) > self.k:\n",
    "            # to_be_merged is a tuple of 2 clusters\n",
    "            to_be_merged = min(metrics, key=metrics.get)\n",
    "            \n",
    "            clusters.remove(to_be_merged[0])\n",
    "            clusters.remove(to_be_merged[1])\n",
    "            new_cluster = tuple(list(to_be_merged[0]) + list(to_be_merged[1]))\n",
    "            \n",
    "            metrics.pop(to_be_merged, None)\n",
    "            metrics.pop((to_be_merged[1], to_be_merged[0]), None)\n",
    "            for c in clusters:\n",
    "                metrics[(new_cluster, c)] = self.linkage(x[new_cluster, :], x[c, :])\n",
    "                metrics.pop((to_be_merged[0], c), None)\n",
    "                metrics.pop((to_be_merged[1], c), None)\n",
    "                metrics.pop((c, to_be_merged[0]), None)\n",
    "                metrics.pop((c, to_be_merged[1]), None)\n",
    "\n",
    "            clusters.append(new_cluster)\n",
    "            \n",
    "            \n",
    "        self.clusters = np.array(clusters)\n",
    "        self.labels = np.empty(x.shape[0], dtype=np.dtype('int'))\n",
    "        for num, cluster in enumerate(self.clusters):\n",
    "            self.labels[np.array(cluster)] = num\n",
    "        #xz так было\n",
    "        self.x_len = len(x)\n",
    "        return self\n",
    "    \n",
    "    def predict(self, x):\n",
    "        \"\"\"\n",
    "        Using computed model parameters predict cluster\n",
    "        for all objects from x\n",
    "        \"\"\"\n",
    "        return None\n",
    "    \n",
    "    def fit_predict(self, x, y=None):\n",
    "        self.fit(x, y)\n",
    "        return self.predict(x)\n",
    "    \n",
    "    @staticmethod\n",
    "    def get_linkage(linkage_name):\n",
    "        def count_metrics(a, b):\n",
    "            x = np.array(a, ndmin=2)\n",
    "            y = np.array(b, ndmin=2)\n",
    "            return ss.distance.cdist(x, y)\n",
    "            \n",
    "        def single_linkage(a, b):\n",
    "            return np.min(count_metrics(a, b))\n",
    "        \n",
    "        def complete_linkage(a, b):\n",
    "            return np.max(count_metrics(a, b))\n",
    "        \n",
    "        def average_linkage(a, b):\n",
    "            return np.mean(count_metrics(a, b))\n",
    "        \n",
    "        kw = {'single': single_linkage, 'complete': complete_linkage, 'average': average_linkage}\n",
    "        if linkage_name not in kw:\n",
    "            raise ValueError('Unknow linkage: %s' % linkage_name)\n",
    "        return kw[linkage_name]\n",
    "        "
   ]
  },
  {
   "cell_type": "markdown",
   "metadata": {},
   "source": [
    "Сначала проверим реализованный алгоритм кластеризации на классическом наборе данных [Iris](http://www.wikiwand.com/en/Iris_flower_data_set). Загрузим данные (они включены в библиотеку sklearn) и посмотрим на то, как они выглядят в двух проекциях (для простоты используем 2 класса из 3)."
   ]
  },
  {
   "cell_type": "code",
   "execution_count": 71,
   "metadata": {
    "collapsed": false
   },
   "outputs": [
    {
     "data": {
      "image/png": "[encoded data removed]",
      "text/plain": [
       "<matplotlib.figure.Figure at 0xbd28588>"
      ]
     },
     "metadata": {},
     "output_type": "display_data"
    }
   ],
   "source": [
    "iris = ds.load_iris()\n",
    "x_iris = iris.data[:100]\n",
    "y_iris = iris.target[:100]\n",
    "\n",
    "pl.figure(figsize=(10, 5))\n",
    "\n",
    "pl.subplot(1, 2, 1)\n",
    "pl.scatter(x_iris[:, 0], x_iris[:, 1], c=y_iris, cmap=pl.cm.PuOr, lw=0, s=30)\n",
    "plt.xlabel('Sepal length')\n",
    "plt.ylabel('Sepal width')\n",
    "\n",
    "pl.subplot(1, 2, 2)\n",
    "pl.scatter(x_iris[:, 2], x_iris[:, 3], c=y_iris, cmap=pl.cm.PuOr, lw=0, s=30)\n",
    "plt.xlabel('Petal length')\n",
    "plt.ylabel('Petal width')\n",
    "pl.show()"
   ]
  },
  {
   "cell_type": "markdown",
   "metadata": {},
   "source": [
    "Видно, что классы разделяются, поэтому можно надеяться, что наш алгоритм \"найдет\" кластеры, соответствующие исходным классам. Результат работы реализованного алгоритма кластеризации предлагается сравнить с эталонной кластеризацией. Для этого предлагается изучить метрику ([adjusted rand score](http://scikit-learn.org/stable/modules/generated/sklearn.metrics.adjusted_rand_score.html)). В случае если значение этой метрики отличается от 1, предлагается поработать над улучшением реализации своего алгоритма."
   ]
  },
  {
   "cell_type": "code",
   "execution_count": 73,
   "metadata": {
    "collapsed": false
   },
   "outputs": [
    {
     "name": "stdout",
     "output_type": "stream",
     "text": [
      "Adjusted Rand index for iris is: 1.00\n"
     ]
    }
   ],
   "source": [
    "pred_iris = Clustering(2).fit(x_iris).labels\n",
    "print \"Adjusted Rand index for iris is: %.2f\" % smt.adjusted_rand_score(y_iris, pred_iris)"
   ]
  },
  {
   "cell_type": "markdown",
   "metadata": {},
   "source": [
    "Выбрать и реализовать критерий качества, на основании которого будут подбираться параметры модели. Варианты критериев:\n",
    "- Инерция (сумма квадратов расстояний от каждой из точек до ближайшего к этой точке центроида)\n",
    "- Средний диаметр (максимальное расстояние между точками в кластере) или радиус (расстояние от центроида до самой дальней от него точки в кластере)\n",
    "- Silhouette\n",
    "\n",
    "**Критерий качества необходимо выбрать таким образом, чтобы он подходил для реализованного алгоритма**"
   ]
  },
  {
   "cell_type": "code",
   "execution_count": null,
   "metadata": {
    "collapsed": false
   },
   "outputs": [],
   "source": [
    "def quality(x, y):\n",
    "    def inertion(x, y):\n",
    "        \n",
    "    def average_diametr(x, y):\n",
    "        \n",
    "    def silhouette(x, y)\n",
    "    \n",
    "    \n",
    "    return 0.51"
   ]
  },
  {
   "cell_type": "markdown",
   "metadata": {},
   "source": [
    "Применим критерий для выбора параметров алгоритма. Предлагается изменить следующий код таким образом, чтобы кластеризация вызывалась с верным набором параметров. На графике можно будет увидеть зависимость критерия от параметров алгоритма. Необходимо выбрать оптимальные значения этих параметров."
   ]
  },
  {
   "cell_type": "code",
   "execution_count": null,
   "metadata": {
    "collapsed": false
   },
   "outputs": [],
   "source": [
    "ks = range(1, 21)\n",
    "criteria = np.zeros(len(ks))\n",
    "\n",
    "for i, k in enumerate(ks):\n",
    "    cls = Clustering()\n",
    "    y = cls.fit(x).labels\n",
    "    criteria[i] = quality(x, y)\n",
    "    \n",
    "pl.figure(figsize=(8, 6))\n",
    "pl.plot(ks, criteria)\n",
    "pl.title(\"$J(k)$\")\n",
    "pl.ylabel(\"Criteria $J$\")\n",
    "pl.xlabel(\"Number of clusters $k$\")\n",
    "pl.grid()\n",
    "pl.show()"
   ]
  },
  {
   "cell_type": "markdown",
   "metadata": {},
   "source": [
    "Далее необходимо кластеризовать данные, используя выбранное количество кластеров, и визуализировать результат с помощью T-SNE. Внимание! На полном объеме данных данный алгоритм может работать существенное время. "
   ]
  },
  {
   "cell_type": "code",
   "execution_count": null,
   "metadata": {
    "collapsed": false
   },
   "outputs": [],
   "source": [
    "k = 5\n",
    "cls = Clustering(k)\n",
    "y = cls.fit(x).labels"
   ]
  },
  {
   "cell_type": "markdown",
   "metadata": {},
   "source": [
    "Визуализируем кластеризацию на карте"
   ]
  },
  {
   "cell_type": "code",
   "execution_count": null,
   "metadata": {
    "collapsed": false
   },
   "outputs": [],
   "source": [
    "pl.figure(figsize=(20,12))\n",
    "\n",
    "m = bm.Basemap(projection='cyl', llcrnrlat=min(x[:, 0]) - 5, urcrnrlat=max(x[:, 0]) + 5, llcrnrlon=min(x[:, 1]) - 5, urcrnrlon=max(x[:, 1]) + 5, resolution='c')\n",
    "\n",
    "m.drawcountries(linewidth=0.2)\n",
    "m.fillcontinents(color='lavender', lake_color='#000040')\n",
    "m.drawmapboundary(linewidth=0.2, fill_color='#000040')\n",
    "m.drawparallels(np.arange(-90,90,30),labels=[0,0,0,0], color='white', linewidth=0.5)\n",
    "m.drawmeridians(np.arange(0,360,30),labels=[0,0,0,0], color='white', linewidth=0.5)\n",
    "\n",
    "m.scatter(x[:, 1], x[:,0], c=y, zorder=10)\n",
    "    \n",
    "pl.show()"
   ]
  },
  {
   "cell_type": "markdown",
   "metadata": {},
   "source": [
    "Визуализируйте интересные участки (может быть это Москва) в приближенном виде. Постройте 3 (или более, в зависимости от данных, что вам самим бы хотелось увидеть ближе) увеличенных изображений карты с кластеризацией."
   ]
  },
  {
   "cell_type": "code",
   "execution_count": null,
   "metadata": {
    "collapsed": true
   },
   "outputs": [],
   "source": [
    "# your code with maps here"
   ]
  },
  {
   "cell_type": "markdown",
   "metadata": {},
   "source": [
    "Какой вывод можно сделать о качестве кластеризации?"
   ]
  },
  {
   "cell_type": "markdown",
   "metadata": {},
   "source": [
    "Поздравляем, Вы завершили домашние задания по модулю \"Алгоритмы кластеризации\". Надеемся, что это было интересно."
   ]
  }
 ],
 "metadata": {
  "anaconda-cloud": {},
  "kernelspec": {
   "display_name": "Python [conda env:py27]",
   "language": "python",
   "name": "conda-env-py27-py"
  },
  "language_info": {
   "codemirror_mode": {
    "name": "ipython",
    "version": 2
   },
   "file_extension": ".py",
   "mimetype": "text/x-python",
   "name": "python",
   "nbconvert_exporter": "python",
   "pygments_lexer": "ipython2",
   "version": "2.7.13"
  }
 },
 "nbformat": 4,
 "nbformat_minor": 0
}
