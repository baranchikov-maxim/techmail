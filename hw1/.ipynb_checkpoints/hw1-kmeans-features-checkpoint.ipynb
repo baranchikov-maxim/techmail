{
 "cells": [
  {
   "cell_type": "markdown",
   "metadata": {},
   "source": [
    "# Алгоритмы интеллектуальной обработки больших объемов данных\n",
    "## Домашнее задание №1 - Метод k-средних, предобработка признаков\n"
   ]
  },
  {
   "cell_type": "markdown",
   "metadata": {},
   "source": [
    "###### <hr\\>\n",
    "**Общая информация**\n",
    "\n",
    "**Срок сдачи:** 6 марта 2017, 06:00 <br\\>\n",
    "**Штраф за опоздание:** -2 балла после 06:00 6 марта, -4 балла после 06:00 13 марта, -6 баллов после 06:00 20 марта\n",
    "\n",
    "При отправлении ДЗ указывайте фамилию в названии файла<br\\>\n",
    "\n",
    "Используйте данный Ipython Notebook при оформлении домашнего задания.\n",
    "<hr\\>"
   ]
  },
  {
   "cell_type": "markdown",
   "metadata": {},
   "source": [
    "# Первое задание - указать фамилию в имени файла"
   ]
  },
  {
   "cell_type": "code",
   "execution_count": 1,
   "metadata": {
    "collapsed": true
   },
   "outputs": [],
   "source": [
    "import pandas as pd\n",
    "import numpy as np\n",
    "import matplotlib.pyplot as plt\n",
    "\n",
    "%matplotlib inline\n",
    "\n",
    "plt.style.use('ggplot')\n",
    "plt.rcParams['figure.figsize'] = (12,5)"
   ]
  },
  {
   "cell_type": "markdown",
   "metadata": {},
   "source": [
    "# Пролог: Модуль sklearn\n",
    "На наших практических занятиях мы будем использовать [sklearn](http://scikit-learn.org/stable/index.html) (scikit-learn) - наиболее популярный модуль для работы с методами машинного обучения и анализа данных.\n",
    "\n",
    "Этот модуль регулярно обновляется, расширяется и сопровождается примерами использования тех или иных методов. Помимо самих алгоритмов (например k-средних или линейной регрессии) в нем есть множество вспомогательных функций по работе с данными."
   ]
  },
  {
   "cell_type": "markdown",
   "metadata": {},
   "source": [
    "# Туториал: Работа с различными типами признаков"
   ]
  },
  {
   "cell_type": "markdown",
   "metadata": {},
   "source": [
    "Вспомним какие типы признаков могут встретится при описании объектов исследования и как их представить в доступной для обработки компьтером форме"
   ]
  },
  {
   "cell_type": "markdown",
   "metadata": {},
   "source": [
    "Типы признаков мы будем рассматривать на примере довольно популярного набора данных [titanic](https://www.kaggle.com/c/titanic/download/train.csv) - информации о выживаемости пассажиров после известной трагедии корабля Titanic."
   ]
  },
  {
   "cell_type": "raw",
   "metadata": {},
   "source": [
    "ARIABLE DESCRIPTIONS:\n",
    "survival        Survival\n",
    "                (0 = No; 1 = Yes)\n",
    "pclass          Passenger Class\n",
    "                (1 = 1st; 2 = 2nd; 3 = 3rd)\n",
    "name            Name\n",
    "sex             Sex\n",
    "age             Age\n",
    "sibsp           Number of Siblings/Spouses Aboard\n",
    "parch           Number of Parents/Children Aboard\n",
    "ticket          Ticket Number\n",
    "fare            Passenger Fare\n",
    "cabin           Cabin\n",
    "embarked        Port of Embarkation\n",
    "                (C = Cherbourg; Q = Queenstown; S = Southampton)"
   ]
  },
  {
   "cell_type": "code",
   "execution_count": 2,
   "metadata": {
    "collapsed": false
   },
   "outputs": [
    {
     "data": {
      "text/html": [
       "<div>\n",
       "<table border=\"1\" class=\"dataframe\">\n",
       "  <thead>\n",
       "    <tr style=\"text-align: right;\">\n",
       "      <th></th>\n",
       "      <th>PassengerId</th>\n",
       "      <th>Survived</th>\n",
       "      <th>Pclass</th>\n",
       "      <th>Name</th>\n",
       "      <th>Sex</th>\n",
       "      <th>Age</th>\n",
       "      <th>SibSp</th>\n",
       "      <th>Parch</th>\n",
       "      <th>Ticket</th>\n",
       "      <th>Fare</th>\n",
       "      <th>Cabin</th>\n",
       "      <th>Embarked</th>\n",
       "    </tr>\n",
       "  </thead>\n",
       "  <tbody>\n",
       "    <tr>\n",
       "      <th>1</th>\n",
       "      <td>2</td>\n",
       "      <td>1</td>\n",
       "      <td>1</td>\n",
       "      <td>Cumings, Mrs. John Bradley (Florence Briggs Th...</td>\n",
       "      <td>female</td>\n",
       "      <td>38.0</td>\n",
       "      <td>1</td>\n",
       "      <td>0</td>\n",
       "      <td>PC 17599</td>\n",
       "      <td>71.2833</td>\n",
       "      <td>C85</td>\n",
       "      <td>C</td>\n",
       "    </tr>\n",
       "    <tr>\n",
       "      <th>3</th>\n",
       "      <td>4</td>\n",
       "      <td>1</td>\n",
       "      <td>1</td>\n",
       "      <td>Futrelle, Mrs. Jacques Heath (Lily May Peel)</td>\n",
       "      <td>female</td>\n",
       "      <td>35.0</td>\n",
       "      <td>1</td>\n",
       "      <td>0</td>\n",
       "      <td>113803</td>\n",
       "      <td>53.1000</td>\n",
       "      <td>C123</td>\n",
       "      <td>S</td>\n",
       "    </tr>\n",
       "    <tr>\n",
       "      <th>6</th>\n",
       "      <td>7</td>\n",
       "      <td>0</td>\n",
       "      <td>1</td>\n",
       "      <td>McCarthy, Mr. Timothy J</td>\n",
       "      <td>male</td>\n",
       "      <td>54.0</td>\n",
       "      <td>0</td>\n",
       "      <td>0</td>\n",
       "      <td>17463</td>\n",
       "      <td>51.8625</td>\n",
       "      <td>E46</td>\n",
       "      <td>S</td>\n",
       "    </tr>\n",
       "    <tr>\n",
       "      <th>10</th>\n",
       "      <td>11</td>\n",
       "      <td>1</td>\n",
       "      <td>3</td>\n",
       "      <td>Sandstrom, Miss. Marguerite Rut</td>\n",
       "      <td>female</td>\n",
       "      <td>4.0</td>\n",
       "      <td>1</td>\n",
       "      <td>1</td>\n",
       "      <td>PP 9549</td>\n",
       "      <td>16.7000</td>\n",
       "      <td>G6</td>\n",
       "      <td>S</td>\n",
       "    </tr>\n",
       "    <tr>\n",
       "      <th>11</th>\n",
       "      <td>12</td>\n",
       "      <td>1</td>\n",
       "      <td>1</td>\n",
       "      <td>Bonnell, Miss. Elizabeth</td>\n",
       "      <td>female</td>\n",
       "      <td>58.0</td>\n",
       "      <td>0</td>\n",
       "      <td>0</td>\n",
       "      <td>113783</td>\n",
       "      <td>26.5500</td>\n",
       "      <td>C103</td>\n",
       "      <td>S</td>\n",
       "    </tr>\n",
       "  </tbody>\n",
       "</table>\n",
       "</div>"
      ],
      "text/plain": [
       "    PassengerId  Survived  Pclass  \\\n",
       "1             2         1       1   \n",
       "3             4         1       1   \n",
       "6             7         0       1   \n",
       "10           11         1       3   \n",
       "11           12         1       1   \n",
       "\n",
       "                                                 Name     Sex   Age  SibSp  \\\n",
       "1   Cumings, Mrs. John Bradley (Florence Briggs Th...  female  38.0      1   \n",
       "3        Futrelle, Mrs. Jacques Heath (Lily May Peel)  female  35.0      1   \n",
       "6                             McCarthy, Mr. Timothy J    male  54.0      0   \n",
       "10                    Sandstrom, Miss. Marguerite Rut  female   4.0      1   \n",
       "11                           Bonnell, Miss. Elizabeth  female  58.0      0   \n",
       "\n",
       "    Parch    Ticket     Fare Cabin Embarked  \n",
       "1       0  PC 17599  71.2833   C85        C  \n",
       "3       0    113803  53.1000  C123        S  \n",
       "6       0     17463  51.8625   E46        S  \n",
       "10      1   PP 9549  16.7000    G6        S  \n",
       "11      0    113783  26.5500  C103        S  "
      ]
     },
     "execution_count": 2,
     "metadata": {},
     "output_type": "execute_result"
    }
   ],
   "source": [
    "df_titanic = pd.read_csv('train.csv', sep=',').dropna()\n",
    "df_titanic.head()"
   ]
  },
  {
   "cell_type": "markdown",
   "metadata": {},
   "source": [
    "## Бинарные признаки\n",
    "Это признаки с двумя возможными значениями\n",
    "* Пол (мужской, женский)\n",
    "* Выжил (да, нет)\n",
    "\n",
    "На вход в алгоритмы обычно подаются в виде значений `{0, 1}` (реже в виде `{-1, 1}`)"
   ]
  },
  {
   "cell_type": "code",
   "execution_count": 3,
   "metadata": {
    "collapsed": false
   },
   "outputs": [
    {
     "data": {
      "text/plain": [
       "1    123\n",
       "0     60\n",
       "Name: Survived, dtype: int64"
      ]
     },
     "execution_count": 3,
     "metadata": {},
     "output_type": "execute_result"
    }
   ],
   "source": [
    "# Здесь все нормально\n",
    "df_titanic.Survived.value_counts()"
   ]
  },
  {
   "cell_type": "code",
   "execution_count": 4,
   "metadata": {
    "collapsed": false
   },
   "outputs": [
    {
     "data": {
      "text/plain": [
       "male      95\n",
       "female    88\n",
       "Name: Sex, dtype: int64"
      ]
     },
     "execution_count": 4,
     "metadata": {},
     "output_type": "execute_result"
    }
   ],
   "source": [
    "# Тут стоит выполнить переобознаение\n",
    "df_titanic.Sex.value_counts()"
   ]
  },
  {
   "cell_type": "code",
   "execution_count": 5,
   "metadata": {
    "collapsed": false
   },
   "outputs": [
    {
     "data": {
      "text/plain": [
       "1    95\n",
       "0    88\n",
       "Name: Sex, dtype: int64"
      ]
     },
     "execution_count": 5,
     "metadata": {},
     "output_type": "execute_result"
    }
   ],
   "source": [
    "# Например так\n",
    "df_titanic.Sex = df_titanic.Sex.replace({'male': 1, 'female': 0})\n",
    "df_titanic.Sex.value_counts()"
   ]
  },
  {
   "cell_type": "markdown",
   "metadata": {},
   "source": [
    "## Вещественные признаки\n",
    "\n",
    "* Возраст\n",
    "* Сумма, потраченная на билет\n",
    "* Количество родственников на борту\n",
    "\n",
    "Как правило остаются в том же виде или выполняется **нормализация** признаков, т.е. переход к одинаковой шкале, например:\n",
    "\n",
    "* $\\tilde{x} = \\frac{x - \\text{mean}(x)}{\\text{std}(x)}$\n",
    "* $\\tilde{x} = \\frac{x - \\text{min}(x)}{\\text{max}(x) - \\text{min}(x)}$"
   ]
  },
  {
   "cell_type": "markdown",
   "metadata": {},
   "source": [
    "## Категориальные признаки\n",
    "\n",
    "Принимают значения из *неупорядоченного* множества\n",
    "\n",
    "* Порт погрузки (C = Cherbourg; Q = Queenstown; S = Southampton)\n",
    "* Точка отправления (St Louis, MO; Montreal, PQ; .. }\n",
    "* Точка назначения (Chesterville, ON; Roseville, IL; .. }\n",
    "\n",
    "Обычно такие признаки кодируют с помощью так называемого One Hot Encoding: </br>\n",
    "для каждой категории создается бинарная маска-столбец, в которой стоит `1` если значение признака равно значению соответствующей категории категории.\n",
    "\n",
    "Например, для признака \"порт погрзки\" создается бинарная макска из трех стобцов для каждого из портов: С, Q, S<br/>\n",
    "Если пассажир заходил на кораблю в порту Southampton, то его признаковое описание будет соответственно: `[0, 0, 1]`"
   ]
  },
  {
   "cell_type": "code",
   "execution_count": 6,
   "metadata": {
    "collapsed": false
   },
   "outputs": [
    {
     "data": {
      "text/plain": [
       "1     C\n",
       "3     S\n",
       "6     S\n",
       "10    S\n",
       "11    S\n",
       "Name: Embarked, dtype: object"
      ]
     },
     "execution_count": 6,
     "metadata": {},
     "output_type": "execute_result"
    }
   ],
   "source": [
    "df_titanic.Embarked.head()"
   ]
  },
  {
   "cell_type": "code",
   "execution_count": 7,
   "metadata": {
    "collapsed": false
   },
   "outputs": [
    {
     "data": {
      "text/html": [
       "<div>\n",
       "<table border=\"1\" class=\"dataframe\">\n",
       "  <thead>\n",
       "    <tr style=\"text-align: right;\">\n",
       "      <th></th>\n",
       "      <th>Embarked=C</th>\n",
       "      <th>Embarked=Q</th>\n",
       "      <th>Embarked=S</th>\n",
       "    </tr>\n",
       "  </thead>\n",
       "  <tbody>\n",
       "    <tr>\n",
       "      <th>1</th>\n",
       "      <td>1</td>\n",
       "      <td>0</td>\n",
       "      <td>0</td>\n",
       "    </tr>\n",
       "    <tr>\n",
       "      <th>3</th>\n",
       "      <td>0</td>\n",
       "      <td>0</td>\n",
       "      <td>1</td>\n",
       "    </tr>\n",
       "    <tr>\n",
       "      <th>6</th>\n",
       "      <td>0</td>\n",
       "      <td>0</td>\n",
       "      <td>1</td>\n",
       "    </tr>\n",
       "    <tr>\n",
       "      <th>10</th>\n",
       "      <td>0</td>\n",
       "      <td>0</td>\n",
       "      <td>1</td>\n",
       "    </tr>\n",
       "    <tr>\n",
       "      <th>11</th>\n",
       "      <td>0</td>\n",
       "      <td>0</td>\n",
       "      <td>1</td>\n",
       "    </tr>\n",
       "  </tbody>\n",
       "</table>\n",
       "</div>"
      ],
      "text/plain": [
       "    Embarked=C  Embarked=Q  Embarked=S\n",
       "1            1           0           0\n",
       "3            0           0           1\n",
       "6            0           0           1\n",
       "10           0           0           1\n",
       "11           0           0           1"
      ]
     },
     "execution_count": 7,
     "metadata": {},
     "output_type": "execute_result"
    }
   ],
   "source": [
    "# Сделать в python это можно несколькими способами:\n",
    "\n",
    "# 1: Через pandas (не очень рекомендуется)\n",
    "emb = pd.get_dummies(df_titanic.Embarked, prefix='Embarked', prefix_sep='=')\n",
    "emb.head()"
   ]
  },
  {
   "cell_type": "code",
   "execution_count": 8,
   "metadata": {
    "collapsed": false
   },
   "outputs": [
    {
     "data": {
      "text/plain": [
       "array([[ 1.,  0.,  0.],\n",
       "       [ 0.,  0.,  1.],\n",
       "       [ 0.,  0.,  1.],\n",
       "       [ 0.,  0.,  1.],\n",
       "       [ 0.,  0.,  1.]])"
      ]
     },
     "execution_count": 8,
     "metadata": {},
     "output_type": "execute_result"
    }
   ],
   "source": [
    "# 2: Функционал sklearn\n",
    "from sklearn.preprocessing import OneHotEncoder\n",
    "\n",
    "encoder = OneHotEncoder(sparse=False)\n",
    "\n",
    "emb = df_titanic.loc[:, ['Embarked']].replace({'C': 0, 'Q': 1, 'S': 2}).values\n",
    "emb_enc = encoder.fit_transform(emb)\n",
    "emb_enc[:5]"
   ]
  },
  {
   "cell_type": "markdown",
   "metadata": {},
   "source": [
    "Про другием способы работы с категориальными переменными можно прочитать вот [тут](https://alexanderdyakonov.wordpress.com/2016/08/03/python-%D0%BA%D0%B0%D1%82%D0%B5%D0%B3%D0%BE%D1%80%D0%B8%D0%B0%D0%BB%D1%8C%D0%BD%D1%8B%D0%B5-%D0%BF%D1%80%D0%B8%D0%B7%D0%BD%D0%B0%D0%BA%D0%B8/)"
   ]
  },
  {
   "cell_type": "markdown",
   "metadata": {},
   "source": [
    "## Порядковый признаки"
   ]
  },
  {
   "cell_type": "markdown",
   "metadata": {},
   "source": [
    "Принимают значения из *упорядоченного* множества\n",
    "\n",
    "* Класс каюты (1 > 2 > 3)\n",
    "\n",
    "В зависимости от метода остаются можно оставить в исходном виде или применить OneHotEncoding."
   ]
  },
  {
   "cell_type": "markdown",
   "metadata": {},
   "source": [
    "## Текстовые признаки - Bag of words"
   ]
  },
  {
   "cell_type": "markdown",
   "metadata": {},
   "source": [
    "Для демонстрации возьмем текст стихотворения Блока:\n",
    "\n",
    "Ночь, улица, фонарь, аптека,<br/>\n",
    "Бессмысленный и тусклый свет.<br/>\n",
    "Живи еще хоть четверть века -<br/>\n",
    "Все будет так. Исхода нет.<br/>\n",
    "\n",
    "Умрешь - начнешь опять сначала<br/>\n",
    "И повторится все, как встарь:<br/>\n",
    "Ночь, ледяная рябь канала,<br/>\n",
    "Аптека, улица, фонарь.<br/>\n",
    "\n",
    "Пусть каждая строчка - это будет условный документ. Переведем эти документы в числовое представление по методу мешка слов (Bag Of Words)"
   ]
  },
  {
   "cell_type": "code",
   "execution_count": null,
   "metadata": {
    "collapsed": false
   },
   "outputs": [],
   "source": [
    "from sklearn.feature_extraction.text import CountVectorizer\n",
    "from sklearn.feature_extraction.text import TfidfVectorizer\n",
    "\n",
    "corpus = \\\n",
    "[u'Ночь, улица, фонарь, аптека,',\n",
    " u'Бессмысленный и тусклый свет.',\n",
    " u'Живи еще хоть четверть века -',\n",
    " u'Все будет так. Исхода нет.',\n",
    " u'Умрешь - начнешь опять сначала',\n",
    " u'И повторится все, как встарь:',\n",
    " u'Ночь, ледяная рябь канала,',\n",
    " u'Аптека, улица, фонарь.']"
   ]
  },
  {
   "cell_type": "code",
   "execution_count": null,
   "metadata": {
    "collapsed": false
   },
   "outputs": [],
   "source": [
    "vect = CountVectorizer()\n",
    "\n",
    "bow = vect.fit_transform(corpus)\n",
    "bow = bow.toarray()\n",
    "bow.shape"
   ]
  },
  {
   "cell_type": "markdown",
   "metadata": {},
   "source": [
    "Получили матрицу размера $8 \\times 27$, так как у нас 8 строчек и выделилось 27 униальных слов. Элемент матрицы показывает сколько раз слово встречалось в соответствующем документе."
   ]
  },
  {
   "cell_type": "code",
   "execution_count": null,
   "metadata": {
    "collapsed": false
   },
   "outputs": [],
   "source": [
    "bow"
   ]
  },
  {
   "cell_type": "code",
   "execution_count": null,
   "metadata": {
    "collapsed": false
   },
   "outputs": [],
   "source": [
    "# Посмотрим какие слова стоят по столбцам\n",
    "for i, w in enumerate(vect.get_feature_names()):\n",
    "    print u'столбец %d: %s' % (i, w)"
   ]
  },
  {
   "cell_type": "markdown",
   "metadata": {},
   "source": [
    "# Туториал: Имплементация собственного метода"
   ]
  },
  {
   "cell_type": "markdown",
   "metadata": {},
   "source": [
    "Для решения задач вида \"имплементируйте метод X\" крайне желательно (но необязательно) реализовывать методы с помощью интерфейса sklearn. Ниже вы увидите пример очень простого **классификатора**. Используйте эти наработи для выполнения задания."
   ]
  },
  {
   "cell_type": "markdown",
   "metadata": {},
   "source": [
    "Загрузите [датасет](https://archive.ics.uci.edu/ml/machine-learning-databases/wine-quality/winequality-red.csv) с информацией о характеристиках вина и его качестве. (В метод `pd.read_csv()` можно подать веб-ссылку на данные и пандас их скачает и преобразует в `DataFrame`)."
   ]
  },
  {
   "cell_type": "code",
   "execution_count": null,
   "metadata": {
    "collapsed": false
   },
   "outputs": [],
   "source": [
    "df_wine = pd.read_csv('https://archive.ics.uci.edu/ml/machine-learning-databases/wine-quality/winequality-red.csv', sep=';')"
   ]
  },
  {
   "cell_type": "code",
   "execution_count": null,
   "metadata": {
    "collapsed": false
   },
   "outputs": [],
   "source": [
    "df_wine.head()"
   ]
  },
  {
   "cell_type": "markdown",
   "metadata": {},
   "source": [
    "Наша задача состоит в предсказании целевого признака `quality` по остальным признакам. `quality` - это вещественная переменная (оценка качества от 0 до 10). Упростим себе задачу - создадим новый столбец `quality_cat` по следующим правилам:\n",
    "\n",
    "* `quality_cat = 1` если `quality > 5` \n",
    "* `quality_cat = 0` - иначе \n",
    "\n",
    "Таким образом, `quality_cat` характерует \"плохое\" и \"хорошее\" вино."
   ]
  },
  {
   "cell_type": "code",
   "execution_count": null,
   "metadata": {
    "collapsed": false
   },
   "outputs": [],
   "source": [
    "def prepocess_wine(df):\n",
    "    df.loc[:, 'quality_cat'] = (df.loc[:, 'quality'] > 5).astype(int)\n",
    "    df = df.drop('quality', axis=1)\n",
    "    \n",
    "    return df"
   ]
  },
  {
   "cell_type": "code",
   "execution_count": null,
   "metadata": {
    "collapsed": false
   },
   "outputs": [],
   "source": [
    "df_wine = df_wine.pipe(prepocess_wine)\n",
    "df_wine.head()"
   ]
  },
  {
   "cell_type": "markdown",
   "metadata": {},
   "source": [
    "Нарисуем распределение хорошего и плохого вина по признаку `alcohol`."
   ]
  },
  {
   "cell_type": "code",
   "execution_count": null,
   "metadata": {
    "collapsed": false
   },
   "outputs": [],
   "source": [
    "_, ax = plt.subplots(1,1)\n",
    "df_wine.query('quality_cat == 1').hist('alcohol', alpha=0.3, bins=20, label='good', ax=ax)\n",
    "df_wine.query('quality_cat == 0').hist('alcohol', alpha=0.3, bins=20, label='bad', ax=ax)\n",
    "ax.set_xlabel('alcohol')\n",
    "ax.set_ylabel('count')\n",
    "plt.legend()"
   ]
  },
  {
   "cell_type": "markdown",
   "metadata": {},
   "source": [
    "Визуально кажется, что можно найти некоторое пороговое значение признака `alcohol` $\\theta$, чтобы хорошо дискриминировать между плохими и хорошим вином:\n",
    "* Если `alcohol >` $\\theta$ - то предсказываем, что вино хорошее\n",
    "* Если `alcohol <=` $\\theta$ - то предсказываем, что вино плохое\n",
    "\n",
    "Обучаеть классификатор будем очень просто: перебирать значения признака alchol и считать **ошибку** классификации. То значение, где ошибка минимальна и будет оптимальным.\n",
    "\n",
    "Разделим целевой признак от остальных признаков"
   ]
  },
  {
   "cell_type": "code",
   "execution_count": null,
   "metadata": {
    "collapsed": false
   },
   "outputs": [],
   "source": [
    "X, y = df_wine.iloc[:, :-1].values, df_wine.iloc[:, -1].values"
   ]
  },
  {
   "cell_type": "markdown",
   "metadata": {},
   "source": [
    "Далее вы увидете пример реализации этого простого классификатора."
   ]
  },
  {
   "cell_type": "code",
   "execution_count": 2,
   "metadata": {
    "collapsed": true
   },
   "outputs": [],
   "source": [
    "from sklearn.base import BaseEstimator, ClassifierMixin\n",
    "\n",
    "class SimpleClassifier(BaseEstimator, ClassifierMixin): \n",
    "    \n",
    "    def __init__(self):\n",
    "        \"\"\"\n",
    "        Инициализация метода\n",
    "        \"\"\"\n",
    "        \n",
    "        self.threshold = 0\n",
    "\n",
    "    def fit(self, X, y=None):\n",
    "        \"\"\"\n",
    "        Выполняет процедуру обучения классификатора. В данном случае - перебор занчения признака alcohol.\n",
    "        Договоримся, что признак alcohol будет в последнем столбце матрицы X\n",
    "        \"\"\"\n",
    "        \n",
    "        alcohol = X[:,-1]\n",
    "        n = float(y.shape[0])\n",
    "        \n",
    "        # Задаем пространство поиска\n",
    "        alco_range = np.arange(alcohol.min(), alcohol.max(), 0.1)\n",
    "        \n",
    "        min_error_rate = 1\n",
    "                \n",
    "        #  Начинаем поиск\n",
    "        for theta in alco_range:\n",
    "            prediction = alcohol > theta\n",
    "            \n",
    "            error_rate = sum(prediction != y)/n\n",
    "            \n",
    "            if error_rate < min_error_rate:\n",
    "                min_error_rate = error_rate\n",
    "                self.threshold = theta  \n",
    "        \n",
    "        return self\n",
    "\n",
    "    def predict(self, X, y=None):\n",
    "        \"\"\"\n",
    "        Процедура предсказания класса по обученному порогу\n",
    "        \"\"\"\n",
    "        \n",
    "        return (X[:,-1] > self.threshold).astype(int)"
   ]
  },
  {
   "cell_type": "markdown",
   "metadata": {},
   "source": [
    "Обучаем модель"
   ]
  },
  {
   "cell_type": "code",
   "execution_count": null,
   "metadata": {
    "collapsed": false
   },
   "outputs": [],
   "source": [
    "model = SimpleClassifier()\n",
    "model.fit(X, y)\n",
    "\n",
    "print 'Оптимальный порог: %f' % model.threshold"
   ]
  },
  {
   "cell_type": "markdown",
   "metadata": {},
   "source": [
    "Получаем предсказание модели (на обучающей выборке)"
   ]
  },
  {
   "cell_type": "code",
   "execution_count": null,
   "metadata": {
    "collapsed": true
   },
   "outputs": [],
   "source": [
    "y_hat = model.predict(X)"
   ]
  },
  {
   "cell_type": "markdown",
   "metadata": {},
   "source": [
    "Оценим долю ошибок на обучающей выборке"
   ]
  },
  {
   "cell_type": "code",
   "execution_count": null,
   "metadata": {
    "collapsed": false
   },
   "outputs": [],
   "source": [
    "error_rate = sum(y_hat != y)/float(y.shape[0])\n",
    "print 'Доля ошибок на обучающей выборке: %f' % error_rate"
   ]
  },
  {
   "cell_type": "markdown",
   "metadata": {},
   "source": [
    "## Проверка метода на контрольной выборке\n",
    "\n",
    "Мы обучили наш метод на данных о красном виде. \n",
    "\n",
    "Посмотрим, выполняется ли так же хорошо закономерность между качеством и уровнем алкоголя в белом вине."
   ]
  },
  {
   "cell_type": "code",
   "execution_count": null,
   "metadata": {
    "collapsed": false
   },
   "outputs": [],
   "source": [
    "df_wine_test = pd.read_csv('https://archive.ics.uci.edu/ml/machine-learning-databases/wine-quality/winequality-white.csv',\n",
    "                           sep=';')\n",
    "\n",
    "df_wine_test = df_wine_test.pipe(prepocess_wine)\n",
    "df_wine_test.head()"
   ]
  },
  {
   "cell_type": "code",
   "execution_count": null,
   "metadata": {
    "collapsed": false
   },
   "outputs": [],
   "source": [
    "X_test, y_test = df_wine_test.iloc[:, :-1].values, df_wine_test.iloc[:, -1].values\n",
    "y_hat = model.predict(X_test)"
   ]
  },
  {
   "cell_type": "code",
   "execution_count": null,
   "metadata": {
    "collapsed": false
   },
   "outputs": [],
   "source": [
    "error_rate = sum(y_hat != y_test)/float(y_test.shape[0])\n",
    "print 'Доля ошибок на контрольной выборке: %f' % error_rate"
   ]
  },
  {
   "cell_type": "markdown",
   "metadata": {},
   "source": [
    "Получилось неплохо и это лишь наивный алгоритм на одном признаке! Ну а выводы делайте сами =)"
   ]
  },
  {
   "cell_type": "markdown",
   "metadata": {},
   "source": [
    "# Имплементация K-means\n",
    "\n",
    "Пользуясь наработками выше, имплементируйте метод k-means.</br> При инициализации необходимо задавать количество кластеров, функцию расстояния между кластерами (для оригинального k-means - евклидово расстояние) и начальное состояние генератора случайных чисел.\n",
    "\n",
    "После обучения, среди атрибутов класса `Kmeans` должны появится\n",
    "* Метки кластеров для объектов\n",
    "* Координаты центройдов кластеров\n",
    "\n",
    "k-means - это алгоритм **кластеризации**, а не классификации, а посему метод `.predict()` в нем фактически не нужен, но он может возвращать метки ближайшего кластера для объектов."
   ]
  },
  {
   "cell_type": "markdown",
   "metadata": {},
   "source": [
    "#### Задание 1 (5 баллов)\n",
    "\n",
    "Имплементируйте метод k-means"
   ]
  },
  {
   "cell_type": "code",
   "execution_count": 85,
   "metadata": {
    "collapsed": false
   },
   "outputs": [],
   "source": [
    "from sklearn.base import ClusterMixin\n",
    "from scipy.spatial.distance import euclidean\n",
    "\n",
    "class Kmeans(BaseEstimator, ClusterMixin): \n",
    "    \n",
    "    def __init__(self, k=2, metric='euclidean', max_iter=1000, random_state=None):\n",
    "        \"\"\"\n",
    "        Инициализация метода\n",
    "        :k - количество кластеров\n",
    "        :metric - функция расстояния между объектами\n",
    "        :max_iter - максиальное количество итераций\n",
    "        :random_state - seed для инициализации генератора случайных чисел\n",
    "        \"\"\"\n",
    "        \n",
    "        self.k = k\n",
    "        self.random_state = random_state\n",
    "        self.metric = metric\n",
    "        self.metric_func = euclidean#lambda a,b : np.linalg.norm(a-b)\n",
    "        self.max_iter = max_iter\n",
    "\n",
    "    def fit(self, X, y=None):\n",
    "        \"\"\"\n",
    "        Процедура обучения k-means\n",
    "        \"\"\"\n",
    "        \n",
    "        # Инициализация генератора случайных чисел\n",
    "        np.random.seed(self.random_state)\n",
    "        \n",
    "        # Массив с метками кластеров для каждого объекта из X\n",
    "        self.labels = np.empty(X.shape[0])\n",
    "        \n",
    "        # Массив с центройдами кластеров\n",
    "        self.centroids = np.empty((self.k, X.shape[1]))\n",
    "        old_centroids = np.empty((self.k, X.shape[1]))\n",
    "        \n",
    "        # Иницилизация центроидов\n",
    "        for c in self.centroids:\n",
    "            c = np.random.rand(X.shape[1]) #* (np.max(X) - np.min(X)) + np.min(X)\n",
    "            \n",
    "        #\n",
    "        iteration = 0\n",
    "        #clusters\n",
    "        while (iteration <= self.max_iter) and abs(np.sum(self.centroids - old_centroids)) > 0.1:\n",
    "            print ++iteration\n",
    "            old_centroids = self.centroids\n",
    "            clusters = [[] for i in xrange(self.k)]\n",
    "            \n",
    "            for x_idx, x in enumerate(X):\n",
    "                metrics = np.array([self.metric_func(x, c) for c in self.centroids])\n",
    "                _min = np.min(metrics)\n",
    "                print metrics\n",
    "                \n",
    "                \n",
    "                tmp = np.where(_min == metrics)\n",
    "                print tmp\n",
    "                \n",
    "                idx = tmp[0][0]\n",
    "                \n",
    "                clusters[idx].append(x)\n",
    "                self.labels[x_idx] = idx\n",
    "                    \n",
    "            self.centroids = \\\n",
    "                np.array([np.sum(clusters[i], axis=0)/len(clusters[i]) if len(clusters[i]) > 0 else old_centroids[i]\\\n",
    "                for i in xrange(len(clusters))])\n",
    "            \n",
    "            #print len(clusters)\n",
    "            #print clusters\n",
    "            print self.centroids\n",
    "            print old_centroids\n",
    "        \n",
    "        print \"iteration \" + str(iteration)\n",
    "        return self\n",
    "\n",
    "    def predict(self, X, y=None):\n",
    "        \"\"\"\n",
    "        Процедура предсказания кластера\n",
    "        \n",
    "        Возвращает метку ближайшего кластера для каждого объекта\n",
    "        \"\"\""
   ]
  },
  {
   "cell_type": "markdown",
   "metadata": {},
   "source": [
    "### Проверка корректности метода\n",
    "\n",
    "Перед тем как применять алгоритм на реальных данных, желатено испытать его на простых \"игрушечных\" данных.\n",
    "\n",
    "Если алгоритм реализован правильно, то метод должен идеально разбивать на 3 кластера данные ниже. Проверьте это."
   ]
  },
  {
   "cell_type": "code",
   "execution_count": 5,
   "metadata": {
    "collapsed": true
   },
   "outputs": [],
   "source": [
    "from sklearn.datasets import make_blobs"
   ]
  },
  {
   "cell_type": "code",
   "execution_count": 6,
   "metadata": {
    "collapsed": false
   },
   "outputs": [],
   "source": [
    "X, y = make_blobs(n_samples=100, n_features=2, centers=3, cluster_std=1, \n",
    "           center_box=(-10.0, 10.0), shuffle=False, random_state=1234)"
   ]
  },
  {
   "cell_type": "code",
   "execution_count": 7,
   "metadata": {
    "collapsed": false
   },
   "outputs": [
    {
     "data": {
      "text/plain": [
       "<matplotlib.collections.PathCollection at 0x95a6470>"
      ]
     },
     "execution_count": 7,
     "metadata": {},
     "output_type": "execute_result"
    },
    {
     "data": {
      "image/png": "[encoded data removed]",
      "text/plain": [
       "<matplotlib.figure.Figure at 0x88cd400>"
      ]
     },
     "metadata": {},
     "output_type": "display_data"
    }
   ],
   "source": [
    "plt.scatter(X[:,0], X[:, 1], c=y)"
   ]
  },
  {
   "cell_type": "markdown",
   "metadata": {},
   "source": [
    "#### Задание 2 (1 балл) \n",
    "\n",
    "Проверьте вашу имплементацию на простых данных"
   ]
  },
  {
   "cell_type": "code",
   "execution_count": 87,
   "metadata": {
    "collapsed": false
   },
   "outputs": [
    {
     "name": "stdout",
     "output_type": "stream",
     "text": [
      "0\n",
      "[ 150.47270914  336.38384377  757.13506763]\n",
      "(array([0], dtype=int64),)\n",
      "[ 151.83089366  338.19581373  758.09037723]\n",
      "(array([0], dtype=int64),)\n",
      "[ 149.63660938  334.78375228  756.73357569]\n",
      "(array([0], dtype=int64),)\n",
      "[ 150.87619179  337.60258495  757.13930205]\n",
      "(array([0], dtype=int64),)\n",
      "[ 151.37017262  336.30673746  758.28168284]\n",
      "(array([0], dtype=int64),)\n",
      "[ 150.57705355  335.7345807   757.52421619]\n",
      "(array([0], dtype=int64),)\n",
      "[ 150.36297966  337.01806414  756.7386273 ]\n",
      "(array([0], dtype=int64),)\n",
      "[ 151.47477136  336.84787099  758.19607815]\n",
      "(array([0], dtype=int64),)\n",
      "[ 150.68549909  335.58423919  757.71771874]\n",
      "(array([0], dtype=int64),)\n",
      "[ 149.98462627  336.04007538  756.66598106]\n",
      "(array([0], dtype=int64),)\n",
      "[ 151.06247293  337.53301581  757.40179286]\n",
      "(array([0], dtype=int64),)\n",
      "[ 150.86754302  335.28523496  758.0591634 ]\n",
      "(array([0], dtype=int64),)\n",
      "[ 151.31498014  336.02983427  758.32232769]\n",
      "(array([0], dtype=int64),)\n",
      "[ 149.71448217  334.77781451  756.83215396]\n",
      "(array([0], dtype=int64),)\n",
      "[ 150.28927832  335.91506938  757.0952835 ]\n",
      "(array([0], dtype=int64),)\n",
      "[ 151.05198421  336.40779049  757.84638846]\n",
      "(array([0], dtype=int64),)\n",
      "[ 149.45523395  333.64482368  756.94805152]\n",
      "(array([0], dtype=int64),)\n",
      "[ 151.18220625  336.64921996  757.91168117]\n",
      "(array([0], dtype=int64),)\n",
      "[ 151.75183931  338.03498588  758.05797813]\n",
      "(array([0], dtype=int64),)\n",
      "[ 151.13705097  336.87710391  757.76356612]\n",
      "(array([0], dtype=int64),)\n",
      "[ 151.17939065  336.20875676  758.08375543]\n",
      "(array([0], dtype=int64),)\n",
      "[ 150.27399755  335.65435104  757.18013197]\n",
      "(array([0], dtype=int64),)\n",
      "[ 150.77567364  337.12662498  757.21041181]\n",
      "(array([0], dtype=int64),)\n",
      "[ 152.40850838  336.85266709  759.35413546]\n",
      "(array([0], dtype=int64),)\n",
      "[ 151.62177539  336.53025832  758.50543684]\n",
      "(array([0], dtype=int64),)\n",
      "[ 150.73733251  336.05067229  757.59780256]\n",
      "(array([0], dtype=int64),)\n",
      "[ 149.99832243  334.52758198  757.27936526]\n",
      "(array([0], dtype=int64),)\n",
      "[ 151.99622601  336.64338289  758.92530865]\n",
      "(array([0], dtype=int64),)\n",
      "[ 150.84045471  336.22697475  757.65567059]\n",
      "(array([0], dtype=int64),)\n",
      "[ 150.93760984  337.91372352  757.08623984]\n",
      "(array([0], dtype=int64),)\n",
      "[ 149.55602873  336.35522956  756.00238422]\n",
      "(array([0], dtype=int64),)\n",
      "[ 150.61645113  335.43929617  757.68902062]\n",
      "(array([0], dtype=int64),)\n",
      "[ 151.63674625  336.08116083  758.70052484]\n",
      "(array([0], dtype=int64),)\n",
      "[ 150.21590037  335.3961917   757.2101351 ]\n",
      "(array([0], dtype=int64),)\n",
      "[ 145.52959932  329.70350328  753.61405925]\n",
      "(array([0], dtype=int64),)\n",
      "[ 145.4938207   332.10128885  752.66641498]\n",
      "(array([0], dtype=int64),)\n",
      "[ 144.70710397  330.84807896  752.18399687]\n",
      "(array([0], dtype=int64),)\n",
      "[ 146.11816437  334.2031561   752.59355462]\n",
      "(array([0], dtype=int64),)\n",
      "[ 144.02025989  330.4617562   751.48898621]\n",
      "(array([0], dtype=int64),)\n",
      "[ 145.30583045  331.46858675  752.68106045]\n",
      "(array([0], dtype=int64),)\n",
      "[ 144.26325429  329.93089419  751.98812975]\n",
      "(array([0], dtype=int64),)\n",
      "[ 144.59765737  329.76546916  752.45787518]\n",
      "(array([0], dtype=int64),)\n",
      "[ 145.37529255  331.4760737   752.76359424]\n",
      "(array([0], dtype=int64),)\n",
      "[ 146.48021837  332.10275264  753.88100914]\n",
      "(array([0], dtype=int64),)\n",
      "[ 144.5743804   330.88282083  752.0076643 ]\n",
      "(array([0], dtype=int64),)\n",
      "[ 145.46390735  330.80663947  753.12717083]\n",
      "(array([0], dtype=int64),)\n",
      "[ 146.49438741  332.05357793  753.91728681]\n",
      "(array([0], dtype=int64),)\n",
      "[ 144.85144722  330.50854348  752.49005595]\n",
      "(array([0], dtype=int64),)\n",
      "[ 144.74533242  330.67703428  752.2962088 ]\n",
      "(array([0], dtype=int64),)\n",
      "[ 144.40541427  329.70306598  752.24664664]\n",
      "(array([0], dtype=int64),)\n",
      "[ 146.20856796  331.89418536  753.62714966]\n",
      "(array([0], dtype=int64),)\n",
      "[ 144.6018487   331.80932092  751.67956456]\n",
      "(array([0], dtype=int64),)\n",
      "[ 145.07850048  332.34412912  752.05664464]\n",
      "(array([0], dtype=int64),)\n",
      "[ 145.49072527  330.6496752   753.21881531]\n",
      "(array([0], dtype=int64),)\n",
      "[ 145.56882507  331.39497076  753.03255067]\n",
      "(array([0], dtype=int64),)\n",
      "[ 145.29867211  332.52221805  752.25827507]\n",
      "(array([0], dtype=int64),)\n",
      "[ 145.13886826  330.76580289  752.74471829]\n",
      "(array([0], dtype=int64),)\n",
      "[ 145.7579484   331.80993867  753.10543555]\n",
      "(array([0], dtype=int64),)\n",
      "[ 145.81339905  331.0307279   753.47049982]\n",
      "(array([0], dtype=int64),)\n",
      "[ 146.7900955   331.49454042  754.49125487]\n",
      "(array([0], dtype=int64),)\n",
      "[ 145.86747991  331.61531243  753.31497118]\n",
      "(array([0], dtype=int64),)\n",
      "[ 144.434228    330.24013968  752.08080103]\n",
      "(array([0], dtype=int64),)\n",
      "[ 145.03904941  330.90810269  752.56835711]\n",
      "(array([0], dtype=int64),)\n",
      "[ 143.91827091  329.08323352  751.88218349]\n",
      "(array([0], dtype=int64),)\n",
      "[ 145.04077778  331.75789251  752.24201058]\n",
      "(array([0], dtype=int64),)\n",
      "[ 146.65222202  330.25993727  754.77565263]\n",
      "(array([0], dtype=int64),)\n",
      "[ 146.55313728  330.76635836  754.4715212 ]\n",
      "(array([0], dtype=int64),)\n",
      "[ 142.25045331  337.86140441  745.96368442]\n",
      "(array([0], dtype=int64),)\n",
      "[ 142.53391301  338.33246409  746.09591744]\n",
      "(array([0], dtype=int64),)\n",
      "[ 141.96656271  337.85009005  745.59705979]\n",
      "(array([0], dtype=int64),)\n",
      "[ 141.77356315  336.63857814  745.95239648]\n",
      "(array([0], dtype=int64),)\n",
      "[ 141.96654132  335.68147748  746.66628476]\n",
      "(array([0], dtype=int64),)\n",
      "[ 142.03725933  336.89045607  746.17117386]\n",
      "(array([0], dtype=int64),)\n",
      "[ 143.27268801  338.05162612  747.20544801]\n",
      "(array([0], dtype=int64),)\n",
      "[ 141.9205077   338.04048416  745.4391441 ]\n",
      "(array([0], dtype=int64),)\n",
      "[ 144.8900306   338.94668376  748.87179872]\n",
      "(array([0], dtype=int64),)\n",
      "[ 143.48812701  337.850749    747.58602235]\n",
      "(array([0], dtype=int64),)\n",
      "[ 142.63960889  338.29745212  746.2526104 ]\n",
      "(array([0], dtype=int64),)\n",
      "[ 143.48998416  338.78547273  747.12066803]\n",
      "(array([0], dtype=int64),)\n",
      "[ 143.50781034  337.94003441  747.56756959]\n",
      "(array([0], dtype=int64),)\n",
      "[ 142.16806718  337.40286437  746.08687525]\n",
      "(array([0], dtype=int64),)\n",
      "[ 141.54251716  336.53837406  745.701283  ]\n",
      "(array([0], dtype=int64),)\n",
      "[ 143.11235228  338.35277259  746.84458317]\n",
      "(array([0], dtype=int64),)\n",
      "[ 144.18633319  339.32152231  747.76260611]\n",
      "(array([0], dtype=int64),)\n",
      "[ 142.78299176  337.96875482  746.60686927]\n",
      "(array([0], dtype=int64),)\n",
      "[ 140.83579831  336.89184035  744.60172069]\n",
      "(array([0], dtype=int64),)\n",
      "[ 143.52414255  337.05074631  748.02237683]\n",
      "(array([0], dtype=int64),)\n",
      "[ 145.33097327  339.89013435  748.97711583]\n",
      "(array([0], dtype=int64),)\n",
      "[ 142.49285013  337.69046974  746.36717142]\n",
      "(array([0], dtype=int64),)\n",
      "[ 142.27113396  338.66923976  745.57635413]\n",
      "(array([0], dtype=int64),)\n",
      "[ 144.15091185  338.82412996  747.96720813]\n",
      "(array([0], dtype=int64),)\n",
      "[ 143.78941169  339.29214448  747.25576845]\n",
      "(array([0], dtype=int64),)\n",
      "[ 142.87372385  338.28349598  746.56686106]\n",
      "(array([0], dtype=int64),)\n",
      "[ 144.52986052  339.21259815  748.268287  ]\n",
      "(array([0], dtype=int64),)\n",
      "[ 141.99339893  337.79196346  745.6618749 ]\n",
      "(array([0], dtype=int64),)\n",
      "[ 142.59905433  337.05831342  746.81922519]\n",
      "(array([0], dtype=int64),)\n",
      "[ 142.99430311  338.67682367  746.52494884]\n",
      "(array([0], dtype=int64),)\n",
      "[ 143.36575875  338.51183591  747.09629123]\n",
      "(array([0], dtype=int64),)\n",
      "[ 142.91237981  338.28381606  746.61737659]\n",
      "(array([0], dtype=int64),)\n",
      "[ 142.18705453  338.14250332  745.73726583]\n",
      "(array([0], dtype=int64),)\n",
      "[[ -5.34620249e-01   1.05502202e+00]\n",
      " [  1.35614573e+02   3.07246888e+02]\n",
      " [  7.49985427e+02   5.45531120e+01]]\n",
      "[[ 135.61457304   54.55311201]\n",
      " [ 135.61457304  307.24688799]\n",
      " [ 749.98542696   54.55311201]]\n",
      "0\n",
      "[   4.83403689  336.38384377  757.13506763]\n",
      "(array([0], dtype=int64),)\n",
      "[   5.68404816  338.19581373  758.09037723]\n",
      "(array([0], dtype=int64),)\n",
      "[   5.07690217  334.78375228  756.73357569]\n",
      "(array([0], dtype=int64),)\n",
      "[   4.72441392  337.60258495  757.13930205]\n",
      "(array([0], dtype=int64),)\n",
      "[   6.12860915  336.30673746  758.28168284]\n",
      "(array([0], dtype=int64),)\n",
      "[   5.49161717  335.7345807   757.52421619]\n",
      "(array([0], dtype=int64),)\n",
      "[   4.31678955  337.01806414  756.7386273 ]\n",
      "(array([0], dtype=int64),)\n",
      "[   5.88325052  336.84787099  758.19607815]\n",
      "(array([0], dtype=int64),)\n",
      "[   5.77724638  335.58423919  757.71771874]\n",
      "(array([0], dtype=int64),)\n",
      "[   4.41333726  336.04007538  756.66598106]\n",
      "(array([0], dtype=int64),)\n",
      "[   4.97803209  337.53301581  757.40179286]\n",
      "(array([0], dtype=int64),)\n",
      "[   6.31140198  335.28523496  758.0591634 ]\n",
      "(array([0], dtype=int64),)\n",
      "[   6.27449311  336.02983427  758.32232769]\n",
      "(array([0], dtype=int64),)\n",
      "[   5.19271465  334.77781451  756.83215396]\n",
      "(array([0], dtype=int64),)\n",
      "[   4.93613531  335.91506938  757.0952835 ]\n",
      "(array([0], dtype=int64),)\n",
      "[   5.61213155  336.40779049  757.84638846]\n",
      "(array([0], dtype=int64),)\n",
      "[   6.10327972  333.64482368  756.94805152]\n",
      "(array([0], dtype=int64),)\n",
      "[   5.61904973  336.64921996  757.91168117]\n",
      "(array([0], dtype=int64),)\n",
      "[   5.64094053  338.03498588  758.05797813]\n",
      "(array([0], dtype=int64),)\n",
      "[   5.40943665  336.87710391  757.76356612]\n",
      "(array([0], dtype=int64),)\n",
      "[   5.94043581  336.20875676  758.08375543]\n",
      "(array([0], dtype=int64),)\n",
      "[   5.1359542   335.65435104  757.18013197]\n",
      "(array([0], dtype=int64),)\n",
      "[   4.79434078  337.12662498  757.21041181]\n",
      "(array([0], dtype=int64),)\n",
      "[   7.15354903  336.85266709  759.35413546]\n",
      "(array([0], dtype=int64),)\n",
      "[   6.30684257  336.53025832  758.50543684]\n",
      "(array([0], dtype=int64),)\n",
      "[   5.45119989  336.05067229  757.59780256]\n",
      "(array([0], dtype=int64),)\n",
      "[   5.85650986  334.52758198  757.27936526]\n",
      "(array([0], dtype=int64),)\n",
      "[   6.73912956  336.64338289  758.92530865]\n",
      "(array([0], dtype=int64),)\n",
      "[   5.45585822  336.22697475  757.65567059]\n",
      "(array([0], dtype=int64),)\n",
      "[   4.71144637  337.91372352  757.08623984]\n",
      "(array([0], dtype=int64),)\n",
      "[   3.61267181  336.35522956  756.00238422]\n",
      "(array([0], dtype=int64),)\n",
      "[   5.81257519  335.43929617  757.68902062]\n",
      "(array([0], dtype=int64),)\n",
      "[   6.6814264   336.08116083  758.70052484]\n",
      "(array([0], dtype=int64),)\n",
      "[   5.28800963  335.3961917   757.2101351 ]\n",
      "(array([0], dtype=int64),)\n",
      "[   6.85824541  329.70350328  753.61405925]\n",
      "(array([0], dtype=int64),)\n",
      "[   3.53278317  332.10128885  752.66641498]\n",
      "(array([0], dtype=int64),)\n",
      "[   4.69232482  330.84807896  752.18399687]\n",
      "(array([0], dtype=int64),)\n",
      "[   1.11617689  334.2031561   752.59355462]\n",
      "(array([0], dtype=int64),)\n",
      "[   4.84338263  330.4617562   751.48898621]\n",
      "(array([0], dtype=int64),)\n",
      "[   4.2572501   331.46858675  752.68106045]\n",
      "(array([0], dtype=int64),)\n",
      "[   5.63735308  329.93089419  751.98812975]\n",
      "(array([0], dtype=int64),)\n",
      "[   6.06012942  329.76546916  752.45787518]\n",
      "(array([0], dtype=int64),)\n",
      "[   4.29874599  331.4760737   752.76359424]\n",
      "(array([0], dtype=int64),)\n",
      "[   4.42345919  332.10275264  753.88100914]\n",
      "(array([0], dtype=int64),)\n",
      "[   4.57142636  330.88282083  752.0076643 ]\n",
      "(array([0], dtype=int64),)\n",
      "[   5.28689022  330.80663947  753.12717083]\n",
      "(array([0], dtype=int64),)\n",
      "[   4.50661281  332.05357793  753.91728681]\n",
      "(array([0], dtype=int64),)\n",
      "[   5.23552639  330.50854348  752.49005595]\n",
      "(array([0], dtype=int64),)\n",
      "[   4.9417924   330.67703428  752.2962088 ]\n",
      "(array([0], dtype=int64),)\n",
      "[   6.01989513  329.70306598  752.24664664]\n",
      "(array([0], dtype=int64),)\n",
      "[   4.44216348  331.89418536  753.62714966]\n",
      "(array([0], dtype=int64),)\n",
      "[   3.40996458  331.80932092  751.67956456]\n",
      "(array([0], dtype=int64),)\n",
      "[   2.94603899  332.34412912  752.05664464]\n",
      "(array([0], dtype=int64),)\n",
      "[   5.52480576  330.6496752   753.21881531]\n",
      "(array([0], dtype=int64),)\n",
      "[   4.56261457  331.39497076  753.03255067]\n",
      "(array([0], dtype=int64),)\n",
      "[   2.83381126  332.52221805  752.25827507]\n",
      "(array([0], dtype=int64),)\n",
      "[   5.09045338  330.76580289  752.74471829]\n",
      "(array([0], dtype=int64),)\n",
      "[   4.14691505  331.80993867  753.10543555]\n",
      "(array([0], dtype=int64),)\n",
      "[   5.27582346  331.0307279   753.47049982]\n",
      "(array([0], dtype=int64),)\n",
      "[   5.59350681  331.49454042  754.49125487]\n",
      "(array([0], dtype=int64),)\n",
      "[   4.51289538  331.61531243  753.31497118]\n",
      "(array([0], dtype=int64),)\n",
      "[   5.33080556  330.24013968  752.08080103]\n",
      "(array([0], dtype=int64),)\n",
      "[   4.8264395   330.90810269  752.56835711]\n",
      "(array([0], dtype=int64),)\n",
      "[   6.54653109  329.08323352  751.88218349]\n",
      "(array([0], dtype=int64),)\n",
      "[   3.69080751  331.75789251  752.24201058]\n",
      "(array([0], dtype=int64),)\n",
      "[   7.15164774  330.25993727  754.77565263]\n",
      "(array([0], dtype=int64),)\n",
      "[   6.35240615  330.76635836  754.4715212 ]\n",
      "(array([0], dtype=int64),)\n",
      "[   9.15656846  337.86140441  745.96368442]\n",
      "(array([0], dtype=int64),)\n",
      "[   9.40150623  338.33246409  746.09591744]\n",
      "(array([0], dtype=int64),)\n",
      "[   9.53919825  337.85009005  745.59705979]\n",
      "(array([0], dtype=int64),)\n",
      "[   8.24941341  336.63857814  745.95239648]\n",
      "(array([0], dtype=int64),)\n",
      "[   6.82860286  335.68147748  746.66628476]\n",
      "(array([0], dtype=int64),)\n",
      "[   8.18924708  336.89045607  746.17117386]\n",
      "(array([0], dtype=int64),)\n",
      "[   8.00443543  338.05162612  747.20544801]\n",
      "(array([0], dtype=int64),)\n",
      "[   9.85857904  338.04048416  745.4391441 ]\n",
      "(array([0], dtype=int64),)\n",
      "[   7.16437844  338.94668376  748.87179872]\n",
      "(array([0], dtype=int64),)\n",
      "[   7.43622562  337.850749    747.58602235]\n",
      "(array([0], dtype=int64),)\n",
      "[   9.20790906  338.29745212  746.2526104 ]\n",
      "(array([0], dtype=int64),)\n",
      "[   8.73521497  338.78547273  747.12066803]\n",
      "(array([0], dtype=int64),)\n",
      "[   7.53220593  337.94003441  747.56756959]\n",
      "(array([0], dtype=int64),)\n",
      "[   8.66471904  337.40286437  746.08687525]\n",
      "(array([0], dtype=int64),)\n",
      "[   8.45686893  336.53837406  745.701283  ]\n",
      "(array([0], dtype=int64),)\n",
      "[   8.6377684   338.35277259  746.84458317]\n",
      "(array([0], dtype=int64),)\n",
      "[   8.59153746  339.32152231  747.76260611]\n",
      "(array([0], dtype=int64),)\n",
      "[   8.56185088  337.96875482  746.60686927]\n",
      "(array([0], dtype=int64),)\n",
      "[   9.91120348  336.89184035  744.60172069]\n",
      "(array([0], dtype=int64),)\n",
      "[   6.30846829  337.05074631  748.02237683]\n",
      "(array([0], dtype=int64),)\n",
      "[   8.01265894  339.89013435  748.97711583]\n",
      "(array([0], dtype=int64),)\n",
      "[   8.58959637  337.69046974  746.36717142]\n",
      "(array([0], dtype=int64),)\n",
      "[  10.22730664  338.66923976  745.57635413]\n",
      "(array([0], dtype=int64),)\n",
      "[   7.9226465   338.82412996  747.96720813]\n",
      "(array([0], dtype=int64),)\n",
      "[   9.06203781  339.29214448  747.25576845]\n",
      "(array([0], dtype=int64),)\n",
      "[   8.86744027  338.28349598  746.56686106]\n",
      "(array([0], dtype=int64),)\n",
      "[   7.99824133  339.21259815  748.268287  ]\n",
      "(array([0], dtype=int64),)\n",
      "[   9.42409395  337.79196346  745.6618749 ]\n",
      "(array([0], dtype=int64),)\n",
      "[   7.60911533  337.05831342  746.81922519]\n",
      "(array([0], dtype=int64),)\n",
      "[   9.24844995  338.67682367  746.52494884]\n",
      "(array([0], dtype=int64),)\n",
      "[   8.51686798  338.51183591  747.09629123]\n",
      "(array([0], dtype=int64),)\n",
      "[   8.81500845  338.28381606  746.61737659]\n",
      "(array([0], dtype=int64),)\n",
      "[   9.62357574  338.14250332  745.73726583]\n",
      "(array([0], dtype=int64),)\n",
      "[[ -5.34620249e-01   1.05502202e+00]\n",
      " [  1.35614573e+02   3.07246888e+02]\n",
      " [  7.49985427e+02   5.45531120e+01]]\n",
      "[[ -5.34620249e-01   1.05502202e+00]\n",
      " [  1.35614573e+02   3.07246888e+02]\n",
      " [  7.49985427e+02   5.45531120e+01]]\n",
      "iteration 0\n",
      "[[-5.31002258  1.80565192]\n",
      " [-6.15391462  0.19949047]\n",
      " [-5.01957527  3.43412144]\n",
      " [-5.21628686  0.4209206 ]\n",
      " [-6.50368836  2.44429379]\n",
      " [-5.76415758  2.73126736]\n",
      " [-4.8484528   0.89526987]\n",
      " [-6.37225732  1.78620608]\n",
      " [-5.97618962  2.99561433]\n",
      " [-4.85145944  1.97287014]\n",
      " [-5.49405691  0.62514819]\n",
      " [-6.35271953  3.50114461]\n",
      " [-6.56745122  2.77961307]\n",
      " [-5.12203242  3.48811368]\n",
      " [-5.3058937   2.32008385]\n",
      " [-6.04489804  2.11938062]\n",
      " [-5.32793628  4.83313594]\n",
      " [-6.0934114   1.87572949]\n",
      " [-6.13346906  0.36719782]\n",
      " [-5.92181879  1.54501864]\n",
      " [-6.30640583  2.46046461]\n",
      " [-5.41419701  2.657444  ]\n",
      " [-5.3286022   0.99636534]\n",
      " [-7.57158427  2.34125722]\n",
      " [-6.71785344  2.29755591]\n",
      " [-5.81559066  2.4066624 ]\n",
      " [-5.60387269  3.98783423]\n",
      " [-7.14384733  2.37183054]\n",
      " [-5.86164214  2.23367666]\n",
      " [-5.13581026  0.04172179]\n",
      " [-4.13900737  1.29954413]\n",
      " [-5.95772761  3.14689605]\n",
      " [-6.9550462   2.90423516]\n",
      " [-5.46538277  2.96568339]\n",
      " [-2.17169953  7.71501463]\n",
      " [-1.01848268  4.55451257]\n",
      " [-0.61346577  5.74668436]\n",
      " [-0.78105289  2.14365501]\n",
      " [ 0.0756604   5.85980223]\n",
      " [-1.08091568  5.27707598]\n",
      " [-0.47807648  6.69209152]\n",
      " [-0.97460937  7.09915787]\n",
      " [-1.16560291  5.30720709]\n",
      " [-2.27329578  5.12245346]\n",
      " [-0.42885129  5.62522462]\n",
      " [-1.59021123  6.23545982]\n",
      " [-2.314434    5.19529037]\n",
      " [-0.95423986  6.27370537]\n",
      " [-0.74185346  5.99246736]\n",
      " [-0.76115711  7.07065319]\n",
      " [-2.0265505   5.23915401]\n",
      " [-0.02087086  4.4260634 ]\n",
      " [-0.36996972  3.99645635]\n",
      " [-1.69621032  6.45633548]\n",
      " [-1.44937809  5.52499626]\n",
      " [-0.56478922  3.88867268]\n",
      " [-1.19837358  6.10201588]\n",
      " [-1.49387727  5.08946503]\n",
      " [-1.92832922  6.14342928]\n",
      " [-2.94845799  6.10088227]\n",
      " [-1.72476922  5.40815538]\n",
      " [-0.55134193  6.38580135]\n",
      " [-1.00588922  5.8583983 ]\n",
      " [-0.42931799  7.60070614]\n",
      " [-0.60581246  4.74514284]\n",
      " [-3.33071086  7.63741844]\n",
      " [-2.98079409  6.91755538]\n",
      " [ 6.39695158 -4.92795868]\n",
      " [ 6.30207839 -5.39849417]\n",
      " [ 6.77632861 -5.072484  ]\n",
      " [ 6.30042389 -3.56395982]\n",
      " [ 5.47778775 -2.18237927]\n",
      " [ 6.09565909 -3.75155303]\n",
      " [ 5.12549527 -4.60484361]\n",
      " [ 6.95731342 -5.35298162]\n",
      " [ 3.47589591 -4.88165033]\n",
      " [ 4.71279681 -4.21394996]\n",
      " [ 6.13629999 -5.29197826]\n",
      " [ 5.27931228 -5.46434676]\n",
      " [ 4.73984786 -4.32216241]\n",
      " [ 6.22829199 -4.36165355]\n",
      " [ 6.55199451 -3.56001031]\n",
      " [ 5.52690785 -5.09875082]\n",
      " [ 4.66136355 -5.78721946]\n",
      " [ 5.73919944 -4.77116688]\n",
      " [ 7.72320805 -4.42587446]\n",
      " [ 4.19008442 -3.12516194]\n",
      " [ 3.45166112 -5.89568041]\n",
      " [ 5.96308072 -4.56290001]\n",
      " [ 6.87191124 -5.9977145 ]\n",
      " [ 4.40399242 -5.14001087]\n",
      " [ 5.18501132 -5.97394263]\n",
      " [ 5.80891095 -5.1410339 ]\n",
      " [ 4.12639975 -5.44472851]\n",
      " [ 6.70386773 -4.97969741]\n",
      " [ 5.43837925 -3.6589904 ]\n",
      " [ 5.88789301 -5.59968683]\n",
      " [ 5.27995476 -5.16814098]\n",
      " [ 5.75651454 -5.11960325]\n",
      " [ 6.65714935 -5.3396367 ]]\n"
     ]
    },
    {
     "data": {
      "image/png": "[encoded data removed]",
      "text/plain": [
       "<matplotlib.figure.Figure at 0xc70e278>"
      ]
     },
     "metadata": {},
     "output_type": "display_data"
    }
   ],
   "source": [
    "# Your Code Here\n",
    "labels = Kmeans(3, random_state=1234).fit(X).labels\n",
    "plt.scatter(X[:,0], X[:, 1], c=labels)\n",
    "print X"
   ]
  },
  {
   "cell_type": "markdown",
   "metadata": {},
   "source": [
    "# Применение K-means на реальных данных"
   ]
  },
  {
   "cell_type": "markdown",
   "metadata": {},
   "source": [
    "Загрузите [данные](https://github.com/brenden17/sklearnlab/blob/master/facebook/snsdata.csv) в которых содержится описание интересов профилей учеников старшей школы США."
   ]
  },
  {
   "cell_type": "code",
   "execution_count": null,
   "metadata": {
    "collapsed": false
   },
   "outputs": [],
   "source": [
    "df_sns = pd.read_csv('snsdata.csv', sep=',')\n",
    "df_sns.head()"
   ]
  },
  {
   "cell_type": "markdown",
   "metadata": {},
   "source": [
    "Данные устроены так: \n",
    "* Год выпуска\n",
    "* Пол\n",
    "* Возраст\n",
    "* Количество друзей\n",
    "* 36 ключевых слов, которые встречаются в профилe facebook (интересы, сообщества, встречи)"
   ]
  },
  {
   "cell_type": "markdown",
   "metadata": {},
   "source": [
    "#### Задание 3 (4 балла)\n",
    "\n",
    "* Удалите все признаки кроме 36 ключевых слов.\n",
    "* Нормализуйте данные - из каждого столбца вычтите его среднее значение и поделите на стандартное отклонение.\n",
    "* Используйте метод k-means чтобы выделить 9 кластеров\n",
    "* Попробуйте проинтерпретировать каждый кластер проанализировав полученные центройды (Некоторые кластеры могут быть очень большие и очень маленькие - плохо интерпретируются)"
   ]
  },
  {
   "cell_type": "code",
   "execution_count": null,
   "metadata": {
    "collapsed": true
   },
   "outputs": [],
   "source": [
    "## Your Code Here"
   ]
  }
 ],
 "metadata": {
  "anaconda-cloud": {},
  "kernelspec": {
   "display_name": "Python [conda env:py27]",
   "language": "python",
   "name": "conda-env-py27-py"
  },
  "language_info": {
   "codemirror_mode": {
    "name": "ipython",
    "version": 2
   },
   "file_extension": ".py",
   "mimetype": "text/x-python",
   "name": "python",
   "nbconvert_exporter": "python",
   "pygments_lexer": "ipython2",
   "version": "2.7.13"
  },
  "nav_menu": {},
  "toc": {
   "navigate_menu": true,
   "number_sections": false,
   "sideBar": true,
   "threshold": 6,
   "toc_cell": false,
   "toc_section_display": "block",
   "toc_window_display": true
  }
 },
 "nbformat": 4,
 "nbformat_minor": 2
}
